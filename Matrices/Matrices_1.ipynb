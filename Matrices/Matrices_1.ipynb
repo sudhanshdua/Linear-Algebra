{
 "cells": [
  {
   "cell_type": "code",
   "execution_count": 1,
   "id": "9c770a6a-11e8-4ab8-a091-9ac08d83389b",
   "metadata": {},
   "outputs": [],
   "source": [
    "import numpy as np\n",
    "from sympy import *\n",
    "import math\n",
    "import matplotlib.pyplot as plt"
   ]
  },
  {
   "cell_type": "markdown",
   "id": "a68e24ee-56c9-4371-8e69-a414163b346a",
   "metadata": {},
   "source": [
    "## Square Matrices"
   ]
  },
  {
   "cell_type": "code",
   "execution_count": 2,
   "id": "1e10856a-8890-4863-9aa5-f92682304aa4",
   "metadata": {},
   "outputs": [
    {
     "name": "stdout",
     "output_type": "stream",
     "text": [
      "[[ 0.04265407  1.76717329]\n",
      " [-0.55655593 -0.01406792]] \n",
      "\n",
      "\n",
      "[[1 2 2 3]\n",
      " [3 3 3 3]\n",
      " [4 4 4 0]\n",
      " [1 1 4 4]] \n",
      "\n",
      "\n"
     ]
    }
   ],
   "source": [
    "mat1 = np.random.randn(2, 2)    # floating point elements\n",
    "print(mat1, \"\\n\\n\")\n",
    "\n",
    "mat2 = np.random.randint(0, 5, size = (4, 4))   # integer elements\n",
    "print(mat2, \"\\n\\n\")"
   ]
  },
  {
   "cell_type": "markdown",
   "id": "4317a9c5-66b4-464d-a067-06aa930e310d",
   "metadata": {},
   "source": [
    "## Rectangular Matrix"
   ]
  },
  {
   "cell_type": "code",
   "execution_count": 3,
   "id": "fdcf422d-53cd-4833-9d9b-2ed22e41abd0",
   "metadata": {},
   "outputs": [
    {
     "name": "stdout",
     "output_type": "stream",
     "text": [
      "[[-0.15424091  1.73116532  1.3994545   0.04503408]\n",
      " [-0.06861135 -0.59585247 -1.50917877  0.30171009]] \n",
      "\n",
      "\n",
      "[[1 3 1 0]\n",
      " [3 0 0 2]\n",
      " [2 1 1 2]\n",
      " [3 2 3 3]\n",
      " [1 2 4 3]\n",
      " [1 0 1 3]] \n",
      "\n",
      "\n"
     ]
    }
   ],
   "source": [
    "mat3 = np.random.randn(2, 4)  # floating point elements\n",
    "print(mat3, \"\\n\\n\")\n",
    "\n",
    "mat4 = np.random.randint(0, 5, size = (6, 4))  # integer elements\n",
    "print(mat4, \"\\n\\n\")"
   ]
  },
  {
   "cell_type": "markdown",
   "id": "defffe02-635c-4cb9-9210-308e116e4cc6",
   "metadata": {},
   "source": [
    "## Identity Matrix"
   ]
  },
  {
   "cell_type": "code",
   "execution_count": 4,
   "id": "78998aca-772b-43d4-8a29-c003cda97177",
   "metadata": {},
   "outputs": [
    {
     "name": "stdout",
     "output_type": "stream",
     "text": [
      "[[1. 0.]\n",
      " [0. 1.]] \n",
      "\n",
      "\n",
      "[[1. 0. 0.]\n",
      " [0. 1. 0.]\n",
      " [0. 0. 1.]\n",
      " [0. 0. 0.]] \n",
      "\n",
      "\n"
     ]
    }
   ],
   "source": [
    "mat5 = np.eye(2)\n",
    "print(mat5, \"\\n\\n\")\n",
    "\n",
    "mat6 = np.eye(4, 3)\n",
    "print(mat6, \"\\n\\n\")"
   ]
  },
  {
   "cell_type": "markdown",
   "id": "9102867f-256a-4cb7-98a5-a2ddd7872d1a",
   "metadata": {},
   "source": [
    "## Diagonal Matrix"
   ]
  },
  {
   "cell_type": "code",
   "execution_count": 5,
   "id": "1c03792a-0df7-40ff-ad86-73a226dca264",
   "metadata": {},
   "outputs": [
    {
     "name": "stdout",
     "output_type": "stream",
     "text": [
      "[[5. 0. 0. 0.]\n",
      " [0. 5. 0. 0.]\n",
      " [0. 0. 5. 0.]\n",
      " [0. 0. 0. 5.]] \n",
      "\n",
      "\n",
      "[[1 0 0 0 0]\n",
      " [0 2 0 0 0]\n",
      " [0 0 3 0 0]\n",
      " [0 0 0 4 0]\n",
      " [0 0 0 0 5]] \n",
      "\n",
      "\n"
     ]
    }
   ],
   "source": [
    "mat7 = 5*np.eye(4)\n",
    "print(mat7, \"\\n\\n\")\n",
    "\n",
    "mat8 = np.diag([1, 2, 3, 4, 5], 0)\n",
    "print(mat8, \"\\n\\n\")"
   ]
  },
  {
   "cell_type": "markdown",
   "id": "c4b29dcd-7046-418d-8e45-fb8be595e09b",
   "metadata": {},
   "source": [
    "## Zero Matrix"
   ]
  },
  {
   "cell_type": "code",
   "execution_count": 6,
   "id": "bf8344dd-14c1-4e49-a0fb-e0fe07fcf5bb",
   "metadata": {},
   "outputs": [
    {
     "name": "stdout",
     "output_type": "stream",
     "text": [
      "[[0 0 0 0]\n",
      " [0 0 0 0]\n",
      " [0 0 0 0]\n",
      " [0 0 0 0]] \n",
      "\n",
      "\n"
     ]
    }
   ],
   "source": [
    "mat9 = np.zeros((4, 4), int)\n",
    "print(mat9, \"\\n\\n\")"
   ]
  },
  {
   "cell_type": "markdown",
   "id": "10338642-2e96-4b4d-8f93-a68e1b7594a1",
   "metadata": {},
   "source": [
    "## Triangular Matrix"
   ]
  },
  {
   "cell_type": "code",
   "execution_count": 7,
   "id": "b41e10c7-6d23-445c-823c-a216d257def5",
   "metadata": {},
   "outputs": [
    {
     "name": "stdout",
     "output_type": "stream",
     "text": [
      "[[2 3 0 1 4]\n",
      " [2 2 4 2 2]\n",
      " [2 4 2 2 0]\n",
      " [3 4 3 3 2]\n",
      " [1 0 4 0 0]] \n",
      "\n",
      "\n",
      "[[2 3 0 1 4]\n",
      " [0 2 4 2 2]\n",
      " [0 0 2 2 0]\n",
      " [0 0 0 3 2]\n",
      " [0 0 0 0 0]] \n",
      "\n",
      "\n",
      "[[2 0 0 0 0]\n",
      " [2 2 0 0 0]\n",
      " [2 4 2 0 0]\n",
      " [3 4 3 3 0]\n",
      " [1 0 4 0 0]] \n",
      "\n",
      "\n"
     ]
    }
   ],
   "source": [
    "mat10 = np.random.randint(0, 5, (5, 5))\n",
    "print(mat10, \"\\n\\n\")\n",
    "\n",
    "# Upper triangle matrix\n",
    "mat11 = np.triu(mat10)\n",
    "print(mat11, \"\\n\\n\")\n",
    "\n",
    "# Lower triangle matrix\n",
    "mat12 = np.tril(mat10)\n",
    "print(mat12, \"\\n\\n\")\n"
   ]
  },
  {
   "cell_type": "markdown",
   "id": "30b074df-890c-4972-8dd5-6a626cdda979",
   "metadata": {},
   "source": [
    "## Concatenating matrices\n"
   ]
  },
  {
   "cell_type": "code",
   "execution_count": 8,
   "id": "80d3c92e-19ca-4970-ae97-bf6d38189123",
   "metadata": {},
   "outputs": [
    {
     "name": "stdout",
     "output_type": "stream",
     "text": [
      "[[1. 1. 1.]\n",
      " [1. 1. 1.]\n",
      " [0. 0. 0.]\n",
      " [0. 0. 0.]] \n",
      "\n",
      "\n",
      "[[1. 1. 1. 0. 0. 0.]\n",
      " [1. 1. 1. 0. 0. 0.]] \n",
      "\n",
      "\n"
     ]
    }
   ],
   "source": [
    "mat13 = np.ones((2, 3))\n",
    "mat14 = np.zeros((2, 3))\n",
    "\n",
    "mat15 = np.concatenate((mat13, mat14))  # mat15 is a 4 X 3 matrix\n",
    "print(mat15, \"\\n\\n\")\n",
    "\n",
    "mat16 = np.concatenate((mat13, mat14), axis = 1)\n",
    "print(mat16, \"\\n\\n\")"
   ]
  },
  {
   "cell_type": "markdown",
   "id": "379cceba-09ab-42d2-87b2-831ca35bd555",
   "metadata": {},
   "source": [
    "## Matrix addition and subtraction"
   ]
  },
  {
   "cell_type": "code",
   "execution_count": 9,
   "id": "93b008a6-a53c-4946-a85f-8417431c8abc",
   "metadata": {},
   "outputs": [
    {
     "name": "stdout",
     "output_type": "stream",
     "text": [
      "[[ 2.  3.  4.]\n",
      " [ 5.  6.  7.]\n",
      " [ 8.  9. 10.]] \n",
      "\n",
      "\n",
      "[[0. 1. 2.]\n",
      " [3. 4. 5.]\n",
      " [6. 7. 8.]] \n",
      "\n",
      "\n"
     ]
    }
   ],
   "source": [
    "mat17 = np.array([[1, 2, 3], [4, 5, 6], [7, 8, 9]])\n",
    "mat18 = np.ones(3)\n",
    "mat19 = mat17 + mat18\n",
    "mat20 = mat17 - mat18\n",
    "\n",
    "print(mat19, \"\\n\\n\")\n",
    "print(mat20, \"\\n\\n\")"
   ]
  },
  {
   "cell_type": "markdown",
   "id": "f864a744-b2c2-4685-9803-157da7f1f567",
   "metadata": {},
   "source": [
    "## Shifting a Matrix"
   ]
  },
  {
   "cell_type": "code",
   "execution_count": 10,
   "id": "6f6a84c9-59ba-4f89-9198-6ed118a7a947",
   "metadata": {},
   "outputs": [
    {
     "name": "stdout",
     "output_type": "stream",
     "text": [
      "[[3 0 2]\n",
      " [4 2 1]\n",
      " [2 3 4]] \n",
      "\n",
      " [[13.  0.  2.]\n",
      " [ 4. 12.  1.]\n",
      " [ 2.  3. 14.]] \n",
      "\n",
      "\n"
     ]
    }
   ],
   "source": [
    "# Shifting A ==> A + lambda.I \n",
    "lam = 10 # lambda\n",
    "n = 3 # No.of rows and columns for the matrices\n",
    "mat21 = np.random.randint(0, 5, (n, n))\n",
    "mat22 = np.eye(n)\n",
    "mat23 = mat21 + lam * mat22\n",
    "print(mat21, \"\\n\\n\", mat23, \"\\n\\n\")\n"
   ]
  },
  {
   "cell_type": "markdown",
   "id": "2652bb2b-61c6-4543-8c31-9ece3a94fa51",
   "metadata": {},
   "source": [
    "## Matrix scalar multiplication"
   ]
  },
  {
   "cell_type": "code",
   "execution_count": 11,
   "id": "7f064a65-feb2-4e36-ae63-2dcbdd0a2018",
   "metadata": {},
   "outputs": [
    {
     "name": "stdout",
     "output_type": "stream",
     "text": [
      "[[100 100 100]\n",
      " [200 200 200]\n",
      " [300 300 300]] \n",
      "\n",
      "\n",
      "[[100 100 100]\n",
      " [200 200 200]\n",
      " [300 300 300]] \n",
      "\n",
      "\n"
     ]
    }
   ],
   "source": [
    "mat24 = np.array([[1, 1, 1], \n",
    "                  [2, 2, 2], \n",
    "                  [3, 3, 3]])\n",
    "scalar1 = 100\n",
    "\n",
    "# pre-multiplcation\n",
    "print(mat24 * scalar1, \"\\n\\n\")\n",
    "\n",
    "#post-multiplication\n",
    "print(scalar1 * mat24, \"\\n\\n\")"
   ]
  },
  {
   "cell_type": "markdown",
   "id": "1b362db0-052d-43bb-aa80-16b2528d2091",
   "metadata": {},
   "source": [
    "## Transpose of a Matrix "
   ]
  },
  {
   "cell_type": "code",
   "execution_count": 12,
   "id": "0ba83e12-19a6-469f-90c9-97b9f9033caa",
   "metadata": {},
   "outputs": [
    {
     "name": "stdout",
     "output_type": "stream",
     "text": [
      "[[ 1  0 -2]\n",
      " [-1  1 -3]\n",
      " [-2  3  1]] \n",
      "\n",
      "\n",
      "[[ 1 -1 -2]\n",
      " [ 0  1  3]\n",
      " [-2 -3  1]] \n",
      "\n",
      "\n",
      "[[ 1  0 -2]\n",
      " [-1  1 -3]\n",
      " [-2  3  1]] \n",
      "\n",
      "\n"
     ]
    }
   ],
   "source": [
    "mat25 = np.array([[1, -1, -2], \n",
    "                 [0, 1, 3], \n",
    "                 [-2, -3, 1]])\n",
    "\n",
    "mat26 = mat25.T\n",
    "print(mat26, \"\\n\\n\")\n",
    "mat27 = mat25.T.T         # mat27 = mat25\n",
    "print(mat27, \"\\n\\n\")\n",
    "\n",
    "# alternative way \n",
    "mat28 = np.transpose(mat25)\n",
    "print(mat28, \"\\n\\n\")"
   ]
  },
  {
   "cell_type": "markdown",
   "id": "894b23f0-3510-4988-b20d-ddc5cb90f4b6",
   "metadata": {},
   "source": [
    "## Extracting the diagonal of a matrix"
   ]
  },
  {
   "cell_type": "code",
   "execution_count": 13,
   "id": "50ad66c8-d4ee-4a25-aed5-f917988bfef4",
   "metadata": {},
   "outputs": [
    {
     "name": "stdout",
     "output_type": "stream",
     "text": [
      "[3 6 5] \n",
      "\n",
      "\n",
      "[[3 0 0]\n",
      " [0 6 0]\n",
      " [0 0 5]] \n",
      "\n",
      "\n"
     ]
    }
   ],
   "source": [
    "mat29 = np.random.randint(0, 10, (3, 3))\n",
    "vec1 = np.diag(mat29)   # extract the diagnol\n",
    "print(vec1, \"\\n\\n\")\n",
    "\n",
    "mat30 = np.diag(vec1)   # create adiagonal matrix from the vector\n",
    "print(mat30, \"\\n\\n\")"
   ]
  },
  {
   "cell_type": "markdown",
   "id": "534c4a6a-fb1e-4694-aa92-b0f3b9638f49",
   "metadata": {},
   "source": [
    "## Sum of diagonal elements a.k.a Trace"
   ]
  },
  {
   "cell_type": "code",
   "execution_count": 14,
   "id": "3e3fe597-0a71-45f8-8576-3f46c2d4e046",
   "metadata": {},
   "outputs": [
    {
     "name": "stdout",
     "output_type": "stream",
     "text": [
      "[[0 6 9 1]\n",
      " [1 1 5 1]\n",
      " [8 2 1 8]\n",
      " [4 8 0 6]] \n",
      "\n",
      "\n",
      "8 \n",
      "\n",
      "\n",
      "8 \n",
      "\n",
      "\n"
     ]
    }
   ],
   "source": [
    "mat30 = np.random.randint(0, 10, (4, 4))\n",
    "print(mat30, \"\\n\\n\")\n",
    "\n",
    "sum1 = np.sum(np.diag(mat30))\n",
    "print(sum1, \"\\n\\n\")\n",
    "\n",
    "sum2 = np.trace(mat30) # works only for the square matrices\n",
    "print(sum2, \"\\n\\n\")"
   ]
  },
  {
   "cell_type": "markdown",
   "id": "9324274e-1334-488b-b7b2-d1820f9a0431",
   "metadata": {},
   "source": [
    "## Broadcasting matrix arithmetic"
   ]
  },
  {
   "cell_type": "code",
   "execution_count": 15,
   "id": "c3f9dc64-5b20-4020-a8b0-23915f4a137e",
   "metadata": {},
   "outputs": [
    {
     "name": "stdout",
     "output_type": "stream",
     "text": [
      "[[ 0  4  8 12 16]\n",
      " [ 1  5  9 13 17]\n",
      " [ 2  6 10 14 18]\n",
      " [ 3  7 11 15 19]] \n",
      "\n",
      "\n",
      "[[10 14 18 22 26]\n",
      " [11 15 19 23 27]\n",
      " [12 16 20 24 28]\n",
      " [13 17 21 25 29]] \n",
      "\n",
      "\n",
      "[[100 104 108 112 116]\n",
      " [101 105 109 113 117]\n",
      " [102 106 110 114 118]\n",
      " [103 107 111 115 119]] \n",
      "\n",
      "\n",
      "[[1000 1004 1008 1012 1016]\n",
      " [1001 1005 1009 1013 1017]\n",
      " [1002 1006 1010 1014 1018]\n",
      " [1003 1007 1011 1015 1019]] \n",
      "\n",
      "\n"
     ]
    }
   ],
   "source": [
    "mat31 = np.reshape(np.arange(0, 20), (4, 5), \"F\")\n",
    "print(mat31, \"\\n\\n\")\n",
    "\n",
    "# vectors\n",
    "vec2 = [10, 10, 10, 10, 10]                # row vector\n",
    "vec3 = [100, 100, 100, 100]                # row vector\n",
    "vec4 = [[1000], [1000], [1000], [1000]]    # column vector\n",
    "\n",
    "# broadcasting on rows uding vec2\n",
    "print(mat31 + vec2, \"\\n\\n\")   # will add the row vector to all the rows\n",
    "\n",
    "# broadcasting on rows uding vec3\n",
    "print(mat31 + np.reshape(vec3, (len(vec3), 1)), \"\\n\\n\")   # will add the column vector to all the columns\n",
    "\n",
    "# broadcasting on rows uding vec4\n",
    "print(mat31 + vec4, \"\\n\\n\")"
   ]
  },
  {
   "cell_type": "markdown",
   "id": "8527f9b5-95a4-4281-9c8b-4042d18f6583",
   "metadata": {},
   "source": [
    "---\n",
    "# Matrix Multiplication\n"
   ]
  },
  {
   "cell_type": "code",
   "execution_count": 16,
   "id": "69da04d2-68ff-4038-a1de-396032c19236",
   "metadata": {},
   "outputs": [
    {
     "name": "stdout",
     "output_type": "stream",
     "text": [
      "[[97 88 63]\n",
      " [59 80 47]\n",
      " [14 35 47]] \n",
      "\n",
      "\n",
      "[[84 15 69 96]\n",
      " [32 37 71 75]\n",
      " [56 19 73 78]\n",
      " [10 20 16 30]] \n",
      "\n",
      "\n",
      "[[ 84  51  30  99  87]\n",
      " [ 79  81  49 105  62]\n",
      " [ 76  47  42  83  61]\n",
      " [ 29  48  11  54  34]] \n",
      "\n",
      "\n",
      "[[ 95 160 112 106  87]\n",
      " [ 71  98  48  78  65]\n",
      " [ 16  48  45  28  23]] \n",
      "\n",
      "\n",
      "[[ 58  20  56  77]\n",
      " [ 42  27  29  65]\n",
      " [ 10   8  36  23]\n",
      " [ 78  33  55 105]\n",
      " [ 74  22  38  88]] \n",
      "\n",
      "\n",
      "[[112 121  38]\n",
      " [131 158 114]\n",
      " [ 77 107 114]\n",
      " [119 146  71]\n",
      " [ 58  64  46]] \n",
      "\n",
      "\n"
     ]
    }
   ],
   "source": [
    "m = 3\n",
    "n = 4\n",
    "o = 5\n",
    "\n",
    "mat32 = np.random.randint(0, 10, (m, n))  # m x n\n",
    "mat33 = np.random.randint(0, 10, (n, m))  # n x m\n",
    "mat34 = np.random.randint(0, 10, (m, o))  # m x o\n",
    "mat35 = np.random.randint(0, 10, (n, o))  # n x o\n",
    "\n",
    "\n",
    "print(np.matmul(mat32, mat33), \"\\n\\n\")  # m x m\n",
    "print(np.matmul(mat33, mat32), \"\\n\\n\")  # n x n\n",
    "\n",
    "# alternative way\n",
    "print(mat33 @ mat34, \"\\n\\n\")  # n x o\n",
    "print(mat32 @ mat35, \"\\n\\n\")  # m x o\n",
    "print(mat34.T @ mat32, \"\\n\\n\")  # o x m\n",
    "print(mat35.T @ mat33, \"\\n\\n\")  # o x n\n"
   ]
  },
  {
   "cell_type": "markdown",
   "id": "af1816e1-fede-4af5-a24e-a57a3a8ccd81",
   "metadata": {},
   "source": [
    "## The order of operations"
   ]
  },
  {
   "cell_type": "code",
   "execution_count": 17,
   "id": "88e0d21f-6e7e-4085-b3c0-329e47ae87dc",
   "metadata": {},
   "outputs": [
    {
     "name": "stdout",
     "output_type": "stream",
     "text": [
      "[[0 0 0]\n",
      " [0 0 0]\n",
      " [0 0 0]] \n",
      "\n",
      "\n"
     ]
    }
   ],
   "source": [
    "# If A, B, C, D are all matrices, then \n",
    "# (A x B x C x D).T     =   (D).T x (C).T x (B).T x (A).T     ====> Individual operation in reverse order\n",
    "\n",
    "p = 3\n",
    "mat36 = np.random.randint(0, 5, (p, p))\n",
    "mat37 = np.random.randint(0, 5, (p, p))\n",
    "mat38 = np.random.randint(0, 5, (p, p))\n",
    "mat39 = np.random.randint(0, 5, (p, p))\n",
    "\n",
    "# (A x B x C x D).T \n",
    "mat40 = (mat36 @ mat37 @ mat38 @ mat39).T   # p x p matrix\n",
    "\n",
    "# (D).T x (C).T x (B).T x (A).T \n",
    "mat41 = (mat39.T @ mat38.T @ mat37.T @ mat36.T)\n",
    "\n",
    "print(mat40 - mat41, \"\\n\\n\")  # must be a p x p matrix of zeroes"
   ]
  },
  {
   "cell_type": "markdown",
   "id": "2205a7d4-7fdf-4150-b610-2f42c4ce945e",
   "metadata": {},
   "source": [
    "## Matrix-vector multiplication"
   ]
  },
  {
   "cell_type": "code",
   "execution_count": 18,
   "id": "5f7d10a5-4d44-431f-bef5-060561bc48ff",
   "metadata": {},
   "outputs": [
    {
     "name": "stdout",
     "output_type": "stream",
     "text": [
      "[[-3 -1  3 -1]\n",
      " [ 2 -5 -4  3]\n",
      " [-1 -2 -1 -4]\n",
      " [ 4 -5  0  0]] \n",
      "\n",
      "\n",
      "[[ 30 -25 -16  13]\n",
      " [-25  55  19  -6]\n",
      " [-16  19  26 -11]\n",
      " [ 13  -6 -11  26]] \n",
      "\n",
      "\n",
      "[14 -6 10  2] \n",
      "\n",
      "\n",
      "[14 -6 10  2] \n",
      "\n",
      "\n",
      "[14 -6 10  2] \n",
      "\n",
      "\n",
      "[14 -6 10  2] \n",
      "\n",
      "\n",
      "[14 -6 10  2] \n",
      "\n",
      "\n",
      "[ 0 -2 -2  4] \n",
      "\n",
      "\n",
      "[-4 -3  2 -5] \n",
      "\n",
      "\n",
      "[-4 -3  2 -5] \n",
      "\n",
      "\n",
      "[ 0 -2 -2  4] \n",
      "\n",
      "\n",
      "[-4 -3  2 -5] \n",
      "\n",
      "\n"
     ]
    }
   ],
   "source": [
    "# no. of elements\n",
    "q = 4\n",
    "\n",
    "# non-symmetric matrix\n",
    "mat42 = np.random.randint(-5, 5, (q, q))  # 4 x 4 matrix\n",
    "print(mat42, \"\\n\\n\")\n",
    "\n",
    "\n",
    "# symmetric matrix\n",
    "mat43 = mat42.T @ mat42                   # 4 x 4 matrix\n",
    "print(mat43, \"\\n\\n\")\n",
    "\n",
    "\n",
    "# vector\n",
    "vec5 = np.array([1, 0, 1, 0])   \n",
    "\n",
    "# vector multiplication with a symmetric matrix\n",
    "print( mat43 @ vec5, \"\\n\\n\")    \n",
    "print( mat43.T @ vec5, \"\\n\\n\")   \n",
    "print( vec5 @ mat43, \"\\n\\n\")    \n",
    "print( vec5.T@ mat43.T, \"\\n\\n\")\n",
    "print( vec5.T@ mat43, \"\\n\\n\")\n",
    "\n",
    "\n",
    "# with non-symmetric matrix\n",
    "print( mat42 @ vec5, \"\\n\\n\")    \n",
    "print( mat42.T @ vec5, \"\\n\\n\")   \n",
    "print( vec5 @ mat42, \"\\n\\n\")    \n",
    "print( vec5.T@ mat42.T, \"\\n\\n\")\n",
    "print( vec5.T@ mat42, \"\\n\\n\")"
   ]
  },
  {
   "cell_type": "markdown",
   "id": "81605bf6-f954-4165-aab2-4d437977a467",
   "metadata": {},
   "source": [
    "## Transforming a vector using a matrix"
   ]
  },
  {
   "cell_type": "code",
   "execution_count": 19,
   "id": "af614f8f-ff4e-4c37-a4c4-68bdebad56e2",
   "metadata": {},
   "outputs": [
    {
     "data": {
      "image/png": "[encoded data removed]",
      "text/plain": [
       "<Figure size 432x288 with 1 Axes>"
      ]
     },
     "metadata": {
      "needs_background": "light"
     },
     "output_type": "display_data"
    },
    {
     "name": "stdout",
     "output_type": "stream",
     "text": [
      "\n",
      "\n",
      "\n"
     ]
    }
   ],
   "source": [
    "## Rotation and stretching \n",
    "## If we multiply a vector by a matrix, then most likely the matrix is going to rotate and stretch the vector, i.e. change the direction and the magnitude\n",
    "\n",
    "## 2 D vector\n",
    "vec6 = np.array([1, 2])\n",
    "\n",
    "## 2x2 transformation matrix\n",
    "mat44 = np.array([[-10, 3], [2, 3]])\n",
    "\n",
    "## transformation\n",
    "vec7 = mat44 @ vec6\n",
    "\n",
    "## Plotting\n",
    "plt.plot([0, vec6[0]], [0, vec6[1]], label='vec6')\n",
    "plt.plot([0, vec7[0]], [0, vec7[1]], label='vec7')\n",
    "plt.grid()\n",
    "plt.axis((-5, 5, -10, 10))\n",
    "plt.legend()\n",
    "plt.title(\"Vector Transformation\")\n",
    "plt.show()\n",
    "print(\"\\n\\n\")"
   ]
  },
  {
   "cell_type": "markdown",
   "id": "f1d969ee-a9e3-414e-b754-f253b8b09eaa",
   "metadata": {},
   "source": [
    "## Rotating a vector"
   ]
  },
  {
   "cell_type": "code",
   "execution_count": 20,
   "id": "a565b44a-7029-4652-8cbb-6b95137a579c",
   "metadata": {},
   "outputs": [
    {
     "data": {
      "image/png": "[encoded data removed]",
      "text/plain": [
       "<Figure size 432x288 with 1 Axes>"
      ]
     },
     "metadata": {
      "needs_background": "light"
     },
     "output_type": "display_data"
    },
    {
     "name": "stdout",
     "output_type": "stream",
     "text": [
      "\n",
      "\n",
      "\n"
     ]
    }
   ],
   "source": [
    "## Pure rotation (no stretching)\n",
    "\n",
    "# 2 D vector\n",
    "vec8 = np.array([2, 3])\n",
    "\n",
    "# 2 x 2 rotation matrix \n",
    "theta = np.pi/4\n",
    "mat45 = np.array([[math.cos(theta), math.sin(-theta)], [math.sin(theta), math.cos(theta)]])\n",
    "\n",
    "# rotation\n",
    "vec9 = mat45 @ vec8\n",
    "\n",
    "## Plotting\n",
    "plt.plot([0, vec8[0]], [0, vec8[1]], label='vec8')\n",
    "plt.plot([0, vec9[0]], [0, vec9[1]], label='vec9')\n",
    "plt.grid()\n",
    "plt.axis((-4, 4, -4, 4))\n",
    "plt.legend()\n",
    "plt.title(\"Vector Rotation\")\n",
    "plt.show()\n",
    "print(\"\\n\\n\")"
   ]
  },
  {
   "cell_type": "markdown",
   "id": "b595e01f-a795-4a6d-beae-a21a15cb6171",
   "metadata": {},
   "source": [
    "## Additive and Multiplicative properties of Identity matrices"
   ]
  },
  {
   "cell_type": "code",
   "execution_count": 21,
   "id": "ffb70a73-22c8-4ff8-a5f3-6f3b828850d1",
   "metadata": {},
   "outputs": [
    {
     "name": "stdout",
     "output_type": "stream",
     "text": [
      "True\n",
      "True \n",
      "\n",
      "\n"
     ]
    }
   ],
   "source": [
    "## A.I = I.A = A\n",
    "\n",
    "size = 3\n",
    "\n",
    "mat46 = np.random.randint(-5, 5, (size, size))\n",
    "I = np.eye(size)             # Identity matrix \n",
    "Z = np.zeros((size, size))   # zero matrix\n",
    "\n",
    "print(np.array_equal(mat46 @ I, mat46))\n",
    "print(np.array_equal(mat46 + Z, mat46), \"\\n\\n\")"
   ]
  },
  {
   "cell_type": "markdown",
   "id": "f4673af4-642f-4faa-8188-7ceeb55e4a90",
   "metadata": {},
   "source": [
    "## Additive property of Symmetric matrices"
   ]
  },
  {
   "cell_type": "code",
   "execution_count": 22,
   "id": "51868380-fc79-4c92-a1dd-2f81ea19c33e",
   "metadata": {},
   "outputs": [
    {
     "name": "stdout",
     "output_type": "stream",
     "text": [
      "[[0 0 0 0 0]\n",
      " [0 0 0 0 0]\n",
      " [0 0 0 0 0]\n",
      " [0 0 0 0 0]\n",
      " [0 0 0 0 0]]\n",
      "\n",
      "\n",
      "\n"
     ]
    }
   ],
   "source": [
    "## A symmetric matrix minus it's transpose must equalt to 0\n",
    "m = n = 5\n",
    "mat47 = np.random.randint(-5, 5, (m, n))\n",
    "\n",
    "mat48 = mat47 + mat47.T # must be symmetric\n",
    "print(mat48 - mat48.T)\n",
    "\n",
    "print('\\n\\n')"
   ]
  },
  {
   "cell_type": "markdown",
   "id": "ecd9e591-bc3d-4a81-ab75-92ee23a42f9a",
   "metadata": {},
   "source": [
    "## Multiplicative property of Symmetric matrices"
   ]
  },
  {
   "cell_type": "code",
   "execution_count": 23,
   "id": "567e54f1-5181-4c17-85a9-1b845457c0ba",
   "metadata": {},
   "outputs": [
    {
     "name": "stdout",
     "output_type": "stream",
     "text": [
      "(4, 4) (3, 3) \n",
      "\n",
      "\n",
      "[[0 0 0 0]\n",
      " [0 0 0 0]\n",
      " [0 0 0 0]\n",
      " [0 0 0 0]] \n",
      "\n",
      " [[0 0 0]\n",
      " [0 0 0]\n",
      " [0 0 0]]\n",
      "\n",
      "\n",
      "\n"
     ]
    }
   ],
   "source": [
    "## A matrix times it's transpose must be a symmetric matrix\n",
    "\n",
    "m = 4\n",
    "n = 3\n",
    "mat49 = np.random.randint(-5, 5, (m, n))\n",
    "mat50 = mat49 @ mat49.T\n",
    "mat51 = mat49.T @ mat49\n",
    "\n",
    "# symmetric matrices are square matrices\n",
    "print(mat50.shape, mat51.shape, \"\\n\\n\")\n",
    "\n",
    "# If they are symmetric, the difference with their transpose should result in a zero matrix ---> additive property\n",
    "print(mat50 - mat50.T, \"\\n\\n\", mat51 - mat51.T)\n",
    "print(\"\\n\\n\")"
   ]
  },
  {
   "cell_type": "markdown",
   "id": "6b29338b-802b-488e-a407-5529791b2258",
   "metadata": {},
   "source": [
    "## Hadamard (Element-wise) multiplication"
   ]
  },
  {
   "cell_type": "code",
   "execution_count": 24,
   "id": "32d9ff52-7d90-4d46-a5ec-a166d45f614a",
   "metadata": {},
   "outputs": [
    {
     "name": "stdout",
     "output_type": "stream",
     "text": [
      "[[ 10 -30 -56  63 -56]\n",
      " [ 35  20   8  42 -18]\n",
      " [-36   5  14  -8  90]\n",
      " [-40   0  70 -30  -2]\n",
      " [  0 -81  -5 -40 -28]\n",
      " [ 27  90  15  32 -18]\n",
      " [-20  54 -40 -48   3]\n",
      " [-10 -12 -12 -24  -6]\n",
      " [  9   8  54  -7 -24]\n",
      " [  0 -30  -6 -80  63]] \n",
      "\n",
      "\n",
      "[[ 10 -30 -56  63 -56]\n",
      " [ 35  20   8  42 -18]\n",
      " [-36   5  14  -8  90]\n",
      " [-40   0  70 -30  -2]\n",
      " [  0 -81  -5 -40 -28]\n",
      " [ 27  90  15  32 -18]\n",
      " [-20  54 -40 -48   3]\n",
      " [-10 -12 -12 -24  -6]\n",
      " [  9   8  54  -7 -24]\n",
      " [  0 -30  -6 -80  63]] \n",
      "\n",
      "\n",
      "[[ -69 -181  175 -113  175  -48   84 -110 -212  -11]\n",
      " [-113   87  -43   36  -45   41  -58   42   82 -182]\n",
      " [ -50   16   65   47  -49   32  -47   69   66 -174]\n",
      " [  56  116   -4   -2  -93  -10  -59   17  139  -89]\n",
      " [  55   91 -177   73 -154   94   -9  101  143   86]\n",
      " [  28   88 -228   26 -178  146   33   91  150   99]\n",
      " [  67  -17   -9  171  -44    4  -51  127   29   74]\n",
      " [  24  -44   38  -30   85  -64   18  -64  -89   76]\n",
      " [  34    2   44   35  -36    1  -24   42   40  -35]\n",
      " [ -23  161 -131  100  -61  -11 -101   49  118  -53]]\n",
      "\n",
      "\n",
      "\n"
     ]
    }
   ],
   "source": [
    "m = 10\n",
    "n = 5\n",
    "mat52 = np.random.randint(-10, 10, (m, n))\n",
    "mat53 = np.random.randint(-10, 10, (m, n))\n",
    "\n",
    "## Different syntax \n",
    "mat54 = np.multiply(mat52, mat53)\n",
    "print(mat54, \"\\n\\n\")\n",
    "\n",
    "## Another syntax for element-wise matrix multiplication\n",
    "mat55 = mat52 * mat53\n",
    "print(mat55, \"\\n\\n\")\n",
    "\n",
    "## Normal multiplication\n",
    "mat56 = mat52 @ mat53.T\n",
    "print(mat56)\n",
    "print('\\n\\n')"
   ]
  },
  {
   "cell_type": "markdown",
   "id": "f63ae3f7-3550-4b00-b99b-9bfcc6ab60c6",
   "metadata": {},
   "source": [
    "## Multiplication 2 Symmetric Matrices"
   ]
  },
  {
   "cell_type": "code",
   "execution_count": 25,
   "id": "1f70632a-4421-449b-b4e9-21980b6c8dba",
   "metadata": {},
   "outputs": [
    {
     "name": "stdout",
     "output_type": "stream",
     "text": [
      "Matrix([[0, 0, 0, 0], [0, 0, 0, 0], [0, 0, 0, 0], [0, 0, 0, 0]])\n",
      "Matrix([[0, 0, 0, 0], [0, 0, 0, 0], [0, 0, 0, 0], [0, 0, 0, 0]])\n",
      "a\n",
      "a\n",
      "a\n",
      "a\n",
      "i\n",
      "i\n",
      "i\n",
      "i\n",
      "\n",
      "\n",
      "\n",
      "Is the product of two symmetric matrices also symmetric?\n",
      "\n",
      "\n"
     ]
    },
    {
     "data": {
      "text/latex": [
       "$\\displaystyle \\left[\\begin{matrix}0 & c m + d n - e k - f l & b m + d o - e j - g l & b n + c o - f j - g k\\\\- c m - d n + e k + f l & 0 & b k - c j + f o - g n & b l - d j + e o - g m\\\\- b m - d o + e j + g l & - b k + c j - f o + g n & 0 & c l - d k + e n - f m\\\\- b n - c o + f j + g k & - b l + d j - e o + g m & - c l + d k - e n + f m & 0\\end{matrix}\\right]$"
      ],
      "text/plain": [
       "⎡          0             c⋅m + d⋅n - e⋅k - f⋅l   b⋅m + d⋅o - e⋅j - g⋅l   b⋅n +\n",
       "⎢                                                                             \n",
       "⎢-c⋅m - d⋅n + e⋅k + f⋅l            0             b⋅k - c⋅j + f⋅o - g⋅n   b⋅l -\n",
       "⎢                                                                             \n",
       "⎢-b⋅m - d⋅o + e⋅j + g⋅l  -b⋅k + c⋅j - f⋅o + g⋅n            0             c⋅l -\n",
       "⎢                                                                             \n",
       "⎣-b⋅n - c⋅o + f⋅j + g⋅k  -b⋅l + d⋅j - e⋅o + g⋅m  -c⋅l + d⋅k - e⋅n + f⋅m       \n",
       "\n",
       " c⋅o - f⋅j - g⋅k⎤\n",
       "                ⎥\n",
       " d⋅j + e⋅o - g⋅m⎥\n",
       "                ⎥\n",
       " d⋅k + e⋅n - f⋅m⎥\n",
       "                ⎥\n",
       "     0          ⎦"
      ]
     },
     "execution_count": 25,
     "metadata": {},
     "output_type": "execute_result"
    }
   ],
   "source": [
    "# using the sympy library, to use letters in place of variables (letters are not assigned any value)\n",
    "a, b, c, d, e, f, g, h, i, j, k, l, m, n, o, p, q, r, s = symbols('a b c d e f g h i j k l m n o p q r s', real = True)\n",
    "\n",
    "# symmetric and diagonal matrix\n",
    "mat57 = Matrix([ [a, b, c, d],\n",
    "                 [b, a, e, f],\n",
    "                 [c, e, a, g],\n",
    "                 [d, f, g, a] ])\n",
    "\n",
    "mat58 = Matrix([ [i, j, k, l],\n",
    "                 [j, i, m, n], \n",
    "                 [k, m, i, o],\n",
    "                 [l, n, o, i] ])\n",
    "\n",
    "# testing whether mat57 and mat58 are symmetric\n",
    "print(mat57 - mat57.transpose())  # <--- must equal 0\n",
    "print(mat58 - mat58.T)            # <--- must equal 0\n",
    "\n",
    "\n",
    "# checking if they have constant diagonals\n",
    "for i in range(np.size(mat57, axis = 0)):   # counting along the rows, a 3 x 4 matrix has 3 diagonal elements\n",
    "    print(mat57[i, i])\n",
    "\n",
    "for i in range(np.size(mat58, axis = 0)):\n",
    "    print(mat58[i, i])\n",
    "\n",
    "print('\\n\\n')\n",
    "\n",
    "print(\"Is the product of two symmetric matrices also symmetric?\\n\\n\")\n",
    "mat59 = mat57 @ mat58\n",
    "\n",
    "#better printing using sympy\n",
    "init_printing()\n",
    "mat59 - mat59.T   # will not equal 0 ==> Non-symmetric"
   ]
  },
  {
   "cell_type": "markdown",
   "id": "e496237d-1f09-4817-ba2a-d3b08ef9de9e",
   "metadata": {},
   "source": [
    "## Frobenious Dot Product"
   ]
  },
  {
   "cell_type": "code",
   "execution_count": 26,
   "id": "fd222a3b-9b78-48ea-9f83-1b3a2de85844",
   "metadata": {},
   "outputs": [
    {
     "name": "stdout",
     "output_type": "stream",
     "text": [
      "172 \n",
      "\n",
      "\n",
      "172 \n",
      "\n",
      "\n"
     ]
    }
   ],
   "source": [
    "m = 7\n",
    "n = 3\n",
    "mat60 = np.random.randint(-10, 10, (m, n))\n",
    "mat61 = np.random.randint(-10, 10, (m, n))\n",
    "\n",
    "\n",
    "## Method 1: Vectorizing a matrix and then computing the dot product\n",
    "vec10 = np.reshape(mat60, m*n, order = \"F\")   # F => column wise ordering\n",
    "vec11 = np.reshape(mat61, m*n, order = \"F\")\n",
    "frob_dot_prod1 = np.dot(vec10, vec11)\n",
    "print(frob_dot_prod1, \"\\n\\n\")\n",
    "\n",
    "## Method 2: Tracing\n",
    "frob_dot_prod2 = np.trace(mat60.T @ mat61)\n",
    "print(frob_dot_prod2, \"\\n\\n\")\n"
   ]
  },
  {
   "cell_type": "markdown",
   "id": "79f7d9b6-80d1-4651-b353-c003ffcb317d",
   "metadata": {},
   "source": [
    "## Frobenious Norm\n"
   ]
  },
  {
   "cell_type": "code",
   "execution_count": 27,
   "id": "b8657d1e-f965-4ed5-8c94-2bedf3d280a7",
   "metadata": {},
   "outputs": [
    {
     "name": "stdout",
     "output_type": "stream",
     "text": [
      "25.768197453450252 \n",
      "\n",
      "25.768197453450252 \n",
      "\n",
      "\n"
     ]
    }
   ],
   "source": [
    "mat62 = np.random.randint(-10, 10, (m, n))\n",
    "\n",
    "norm1 = np.linalg.norm(mat62, \"fro\")\n",
    "print(norm1, \"\\n\")\n",
    "norm2 = np.sqrt(np.trace(mat62.T @ mat62))\n",
    "print(norm2, \"\\n\\n\")"
   ]
  },
  {
   "cell_type": "markdown",
   "id": "9281784f-151e-4b04-9a93-80377046e877",
   "metadata": {},
   "source": [
    "## Matrix Norms"
   ]
  },
  {
   "cell_type": "code",
   "execution_count": 28,
   "id": "0195d944-ed3f-44c6-960d-4ba5eebea547",
   "metadata": {},
   "outputs": [
    {
     "name": "stdout",
     "output_type": "stream",
     "text": [
      "16.881943016134134 \n",
      "\n",
      "16.84810335261421 \t<--> \t 16.84810335261421 \n",
      "\n",
      "17.91647286716892\n",
      "\n",
      "\n",
      "\n"
     ]
    }
   ],
   "source": [
    "mat63 = np.array([ [1, 2, 3], [4, 5, 6], [7, 8, 9] ])\n",
    "\n",
    "# Frobenious norm\n",
    "norm3 = np.linalg.norm(mat63, \"fro\")\n",
    "print(norm3, \"\\n\")\n",
    "\n",
    "# Induced 2-norm: Method 1\n",
    "norm4 = np.linalg.norm(mat63, 2)\n",
    "\n",
    "# Induced 2-norm: Method 2\n",
    "norm5 = np.sqrt( np.max(np.linalg.eig(mat63.T @ mat63)[0]) )\n",
    "print(norm4, \"\\t<--> \\t\", norm5, \"\\n\")\n",
    "\n",
    "# Schatten p-norm\n",
    "p = 1\n",
    "s = np.linalg.svd(mat63)[1] # get the singular values\n",
    "norm6 = np.sum(s**p)**(1/p)\n",
    "print(norm6)\n",
    "\n",
    "print('\\n\\n')"
   ]
  }
 ],
 "metadata": {
  "kernelspec": {
   "display_name": "Python 3",
   "language": "python",
   "name": "python3"
  },
  "language_info": {
   "codemirror_mode": {
    "name": "ipython",
    "version": 3
   },
   "file_extension": ".py",
   "mimetype": "text/x-python",
   "name": "python",
   "nbconvert_exporter": "python",
   "pygments_lexer": "ipython3",
   "version": "3.8.8"
  }
 },
 "nbformat": 4,
 "nbformat_minor": 5
}
