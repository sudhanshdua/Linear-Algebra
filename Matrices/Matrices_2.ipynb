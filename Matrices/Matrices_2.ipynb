{
 "cells": [
  {
   "cell_type": "code",
   "execution_count": 1,
   "id": "f07e09d8-f8e4-41b9-9d85-470f2ccd7616",
   "metadata": {},
   "outputs": [],
   "source": [
    "import numpy as np\n",
    "import matplotlib.pyplot as plt\n",
    "import math\n",
    "from mpl_toolkits.mplot3d import Axes3D"
   ]
  },
  {
   "cell_type": "markdown",
   "id": "5c4cb770-b5ba-4014-b50f-5659253f441f",
   "metadata": {},
   "source": [
    "# Matrix Ranks"
   ]
  },
  {
   "cell_type": "code",
   "execution_count": 2,
   "id": "69fbaf30-f920-45e6-abf3-18c224f86723",
   "metadata": {},
   "outputs": [
    {
     "name": "stdout",
     "output_type": "stream",
     "text": [
      "Matrix:\n",
      " [[ 0.70025158 -1.7845281   1.08224971  0.2162874  -0.36305497]\n",
      " [-0.5638901   1.04243821 -1.10987104 -0.35969946  0.20757224]\n",
      " [ 0.00473651 -0.51464251  1.64233593  0.86125075  1.64723562]] \n",
      "\n",
      "Rank: 3\n",
      "\n",
      "\n",
      "\n"
     ]
    }
   ],
   "source": [
    "p = 3\n",
    "q = 5\n",
    "\n",
    "mat1 = np.random.randn(p, q)\n",
    "\n",
    "# largest possible rank = min(p, q)\n",
    "# a matrix formed using random numbers will most likely have the maximum possible rank for that matrix size\n",
    "rank1 = np.linalg.matrix_rank(mat1)\n",
    "print(\"Matrix:\\n\", mat1, \"\\n\\nRank:\", rank1)\n",
    "\n",
    "print('\\n\\n')"
   ]
  },
  {
   "cell_type": "code",
   "execution_count": 3,
   "id": "6be0ed41-a6ca-493e-ab67-e1da70df4eb6",
   "metadata": {},
   "outputs": [
    {
     "name": "stdout",
     "output_type": "stream",
     "text": [
      "Matrix:\n",
      " [[ 1.37871462  1.37871462  0.64470934 -0.93313906 -1.8356816 ]\n",
      " [-0.60624928 -0.60624928  0.05675855  1.08132022  1.48850793]\n",
      " [ 2.33568512  2.33568512  0.30660148 -1.45580606 -0.93863354]] \n",
      "\n",
      "\n",
      "Rank: 3\n",
      "\n",
      "\n",
      "\n"
     ]
    }
   ],
   "source": [
    "p = 3\n",
    "q = 5\n",
    "mat2 =  np.random.randn(p, q)\n",
    "\n",
    "# setting the second column = first column\n",
    "mat2[:, 0] = mat2[:, 1]\n",
    "print(\"Matrix:\\n\", mat2, \"\\n\\n\")\n",
    "\n",
    "# rank will not be reduced\n",
    "rank2 = np.linalg.matrix_rank(mat2)\n",
    "print(\"Rank:\", rank2)\n",
    "print(\"\\n\\n\")"
   ]
  },
  {
   "cell_type": "code",
   "execution_count": 4,
   "id": "4c9fa67e-699c-4deb-b538-c2ff248f0a8c",
   "metadata": {},
   "outputs": [
    {
     "name": "stdout",
     "output_type": "stream",
     "text": [
      "Matrix:\n",
      " [[-0.4006912   0.01524583  2.48244394  0.34321808  1.66604286]\n",
      " [-0.4006912   0.01524583  2.48244394  0.34321808  1.66604286]\n",
      " [-0.45677514 -0.99537413  0.44021817 -1.67890339 -2.01406128]] \n",
      "\n",
      "\n",
      "Rank: 2\n",
      "\n",
      "\n",
      "\n"
     ]
    }
   ],
   "source": [
    "# but what if we perform the same operation on rows instead of columns\n",
    "# second row = first row\n",
    "\n",
    "p = 3\n",
    "q = 5\n",
    "mat3 =  np.random.randn(p, q)\n",
    "\n",
    "# setting the second row = first row\n",
    "mat3[0, :] = mat3[1, :]\n",
    "print(\"Matrix:\\n\", mat3, \"\\n\\n\")\n",
    "\n",
    "# rank will be reduced, because the number of linearly independent rows are now less than 3. So, rank will equal min(p-1, q)\n",
    "rank3 = np.linalg.matrix_rank(mat3)\n",
    "print(\"Rank:\", rank3)\n",
    "print(\"\\n\\n\")"
   ]
  },
  {
   "cell_type": "markdown",
   "id": "e430e8f2-3bdf-4c3f-92ad-d09e49617880",
   "metadata": {},
   "source": [
    "## Impact of noise on the matrix rank"
   ]
  },
  {
   "cell_type": "code",
   "execution_count": 5,
   "id": "bb2b0e2f-c7d1-4038-ab44-3ac8eee51445",
   "metadata": {},
   "outputs": [
    {
     "name": "stdout",
     "output_type": "stream",
     "text": [
      "Rank without noise: 2\n",
      "Rank with noise: 3\n",
      "\n",
      "\n",
      "\n"
     ]
    }
   ],
   "source": [
    "p = 3\n",
    "mat4 =  np.random.randn(p, p)\n",
    "\n",
    "# setting the second row = first row ===> reducing the rank by 1\n",
    "mat4[0, :] = mat4[1, :]\n",
    "\n",
    "rank4 = np.linalg.matrix_rank(mat4)\n",
    "print(\"Rank without noise:\", rank4)\n",
    "\n",
    "# adding noise\n",
    "noise_level = 0.0001\n",
    "mat5 = mat4  + np.random.randn(p, p) * noise_level\n",
    "\n",
    "# rank will be reduced, because the number of linearly independent rows are now less than 3. So, rank will equal min(p-1, q)\n",
    "rank5 = np.linalg.matrix_rank(mat5)\n",
    "print(\"Rank with noise:\", rank5)\n",
    "print(\"\\n\\n\")"
   ]
  },
  {
   "cell_type": "markdown",
   "id": "ee30180d-f6fe-471c-aa2b-d2a5e644676d",
   "metadata": {},
   "source": [
    "## Creating a reduced rank matrix using matrix multiplication"
   ]
  },
  {
   "cell_type": "code",
   "execution_count": 6,
   "id": "358c6309-cfc3-418b-966b-e857c9b9fb69",
   "metadata": {},
   "outputs": [
    {
     "name": "stdout",
     "output_type": "stream",
     "text": [
      "(10, 10)\n",
      "4\n",
      "\n",
      "\n",
      "\n"
     ]
    }
   ],
   "source": [
    "## creating a 10 X 10 matrix with Rank 4\n",
    "mat6 = np.random.randint(-10, 10, (10, 4))\n",
    "mat7 = np.random.randint(-10, 10, (4, 10))\n",
    "mat8 = mat6 @ mat7\n",
    "\n",
    "print(mat8.shape)\n",
    "print(np.linalg.matrix_rank(mat8))\n",
    "print(\"\\n\\n\")"
   ]
  },
  {
   "cell_type": "markdown",
   "id": "8b1bbbb7-ad52-494e-a63a-c8489ed3de5e",
   "metadata": {},
   "source": [
    "## Generalising the above concept"
   ]
  },
  {
   "cell_type": "code",
   "execution_count": 7,
   "id": "d96629fe-f789-4510-abe6-8265b57d37a2",
   "metadata": {},
   "outputs": [
    {
     "name": "stdout",
     "output_type": "stream",
     "text": [
      "(7, 4)\n",
      "2\n",
      "\n",
      "\n",
      "\n"
     ]
    }
   ],
   "source": [
    "## creating a m X n matrix with Rank r\n",
    "m = 7\n",
    "n = 4\n",
    "r = 2\n",
    "\n",
    "mat9 = np.random.randint(-10, 10, (m, r)) @ np.random.randint(-10, 10, (r, n))\n",
    "print(mat9.shape)\n",
    "print(np.linalg.matrix_rank(mat9))\n",
    "print(\"\\n\\n\")"
   ]
  },
  {
   "cell_type": "markdown",
   "id": "8be2a010-d0cb-404c-808a-1794652bd8d8",
   "metadata": {},
   "source": [
    "## Rank of AA' and A'A"
   ]
  },
  {
   "cell_type": "code",
   "execution_count": 8,
   "id": "a22e0f2e-4666-4c5a-b5e1-eae5d8315bbb",
   "metadata": {},
   "outputs": [
    {
     "name": "stdout",
     "output_type": "stream",
     "text": [
      "3\n",
      "3\n",
      "\n",
      "\n",
      "\n"
     ]
    }
   ],
   "source": [
    "## Concept:\n",
    "# Rank(A) = Rank(A'A) = Rank(A') + Rank(AA')\n",
    "\n",
    "m = 5\n",
    "n = 3\n",
    "\n",
    "mat10 =  np.random.randint(-10, 10, (m, n))\n",
    "mat11 = mat10.T @ mat10\n",
    "mat12 = mat10 @ mat10.T\n",
    "\n",
    "print(np.linalg.matrix_rank(mat11))\n",
    "print(np.linalg.matrix_rank(mat12))\n",
    "\n",
    "print('\\n\\n')"
   ]
  },
  {
   "cell_type": "markdown",
   "id": "2f949c35-be65-4f86-ad4d-a2eb245c3c60",
   "metadata": {},
   "source": [
    "## Making a matrix full rank matrix (by shifting)"
   ]
  },
  {
   "cell_type": "code",
   "execution_count": 9,
   "id": "87d5c401-c33a-4b92-a792-a526427bfc47",
   "metadata": {},
   "outputs": [
    {
     "name": "stdout",
     "output_type": "stream",
     "text": [
      "Reduced Rank:\t 5\n",
      "Full Rank:\t 20\n",
      "\n",
      "\n",
      "\n"
     ]
    }
   ],
   "source": [
    "## Rank(A + kI) = full rank <---- where A is a Square matrix \n",
    "m = 20\n",
    "r = 5\n",
    "k = 5\n",
    "# crating a matrix of size m X m but with a rank r\n",
    "mat11 = np.random.randint(-10, 10, (m, r)) @ np.random.randint(-10, 10, (r, m))\n",
    "print(\"Reduced Rank:\\t\", np.linalg.matrix_rank(mat11))\n",
    "\n",
    "mat12 = mat11 + k * np.eye(m)\n",
    "print(\"Full Rank:\\t\", np.linalg.matrix_rank(mat12))\n",
    "print(\"\\n\\n\")"
   ]
  },
  {
   "cell_type": "markdown",
   "id": "60057a20-9919-4976-b4b0-c24b384aacc1",
   "metadata": {},
   "source": [
    "## Is a vector in the span of a matrix"
   ]
  },
  {
   "cell_type": "code",
   "execution_count": 10,
   "id": "514807ea-00f6-43d5-ba17-e955539a74d0",
   "metadata": {},
   "outputs": [
    {
     "name": "stdout",
     "output_type": "stream",
     "text": [
      "[[1]\n",
      " [2]\n",
      " [3]\n",
      " [4]] \n",
      "\n",
      "\n",
      "[[4 0]\n",
      " [3 4]\n",
      " [6 0]\n",
      " [2 1]] \n",
      "\n",
      "\n",
      "[[ 4 10]\n",
      " [ 8  2]\n",
      " [12  0]\n",
      " [16  1]] \n",
      "\n",
      "\n",
      "[[4 0 1]\n",
      " [3 4 2]\n",
      " [6 0 3]\n",
      " [2 1 4]] \n",
      "\n",
      "\n",
      "[[ 4 10  1]\n",
      " [ 8  2  2]\n",
      " [12  0  3]\n",
      " [16  1  4]] \n",
      "\n",
      "\n",
      "old rank: 2 \tnew rank: 3\n",
      "old rank: 2 \tnew rank: 2\n",
      "\n",
      "\n",
      "\n"
     ]
    }
   ],
   "source": [
    "# column vector\n",
    "vec1 = np.array([[1, 2, 3, 4]]).T\n",
    "print(vec1, \"\\n\\n\")\n",
    "\n",
    "# matrices\n",
    "mat13 = np.vstack(([4, 3, 6, 2], [0, 4, 0, 1])).T\n",
    "print(mat13, \"\\n\\n\")\n",
    "mat14 = np.vstack(([4, 8, 12, 16], [10, 2, 0, 1])).T\n",
    "print(mat14, \"\\n\\n\")   \n",
    "\n",
    "# new matrices created by concatenating the vector\n",
    "mat15 = np.concatenate((mat13, vec1), axis = 1)\n",
    "print(mat15, \"\\n\\n\")\n",
    "mat16 = np.concatenate((mat14, vec1), axis = 1)\n",
    "print(mat16, \"\\n\\n\")\n",
    "\n",
    "## If the rank of the new matrix remain the same, then the vector lies in the span of the matrix\n",
    "print(\"old rank:\", np.linalg.matrix_rank(mat13), \"\\tnew rank:\", np.linalg.matrix_rank(mat15))\n",
    "print(\"old rank:\", np.linalg.matrix_rank(mat14), \"\\tnew rank:\", np.linalg.matrix_rank(mat16))\n",
    "print(\"\\n\\n\")"
   ]
  },
  {
   "cell_type": "markdown",
   "id": "292a99c8-9364-4df8-8500-f851d5ff5b8e",
   "metadata": {},
   "source": [
    "---\n",
    "# Matrix Spaces"
   ]
  },
  {
   "cell_type": "code",
   "execution_count": 12,
   "id": "5346237d-bb36-4087-982f-7c0935e17465",
   "metadata": {},
   "outputs": [
    {
     "data": {
      "image/png": "[encoded data removed]",
      "text/plain": [
       "<Figure size 1296x648 with 1 Axes>"
      ]
     },
     "metadata": {
      "needs_background": "light"
     },
     "output_type": "display_data"
    }
   ],
   "source": [
    "## Is a vector in the column space of a matrix ?\n",
    "## Can I get the value of say a column vector, from a scaled addition of the columns of the matrix ?\n",
    "\n",
    "# matrix\n",
    "mat17 = np.array([ [3, 0], \n",
    "                   [5, 2], \n",
    "                   [1, 2] ])\n",
    "\n",
    "# columen vector\n",
    "vec2 = np.array([[-3], [1], [5]])\n",
    "vec3 = np.array([[2], [0], [8]])\n",
    "\n",
    "figure = plt.figure(figsize=(18, 9))\n",
    "ax = figure.gca(projection = '3d')\n",
    "\n",
    "# Drawing a plane corresponding to the column space\n",
    "xx, yy = np.meshgrid(np.linspace(-5, 5, 11), np.linspace(-5, 5, 11))    # grid for x and y- axis\n",
    "cross_product = np.cross(mat17[:, 0], mat17[:, 1])                      # normal vector to the plane \n",
    "z = (-cross_product[0] * xx - cross_product[1] * yy) / cross_product[2] # grid for z axis\n",
    "ax.plot_surface(xx, yy, z, alpha = 0.4)\n",
    "\n",
    "# plotting the two column vectors in the matrix\n",
    "ax.plot([0, mat17[0, 0]], [0, mat17[1, 0]], [0, mat17[2, 0]], 'b')  # 1st column\n",
    "ax.plot([0, mat17[0, 1]], [0, mat17[1, 1]], [0, mat17[2, 1]], 'b')  # 2nd column\n",
    "\n",
    "# plotting the vectors\n",
    "ax.plot([0, vec2[0]], [0, vec2[1]], [0, vec2[2]], 'r')  # vec2 is in the column spance of the matrix\n",
    "ax.plot([0, vec3[0]], [0, vec3[1]], [0, vec3[2]], 'g')  # vec3 is not in the column space of the matrix\n",
    "\n",
    "ax.view_init(elev = 155, azim = 0)\n",
    "plt.show()"
   ]
  },
  {
   "cell_type": "code",
   "execution_count": 13,
   "id": "3ebda928-c40c-4f05-8639-e436335b6187",
   "metadata": {},
   "outputs": [
    {
     "data": {
      "image/png": "[encoded data removed]",
      "text/plain": [
       "<Figure size 1296x648 with 1 Axes>"
      ]
     },
     "metadata": {
      "needs_background": "light"
     },
     "output_type": "display_data"
    }
   ],
   "source": [
    "## Visualisation 2.0 (changed the elevation)\n",
    "\n",
    "figure = plt.figure(figsize=(18, 9))\n",
    "ax = figure.gca(projection = '3d')\n",
    "\n",
    "# Drawing a plane corresponding to the column space\n",
    "xx, yy = np.meshgrid(np.linspace(-5, 5, 11), np.linspace(-5, 5, 11))    # grid for x and y- axis\n",
    "cross_product = np.cross(mat17[:, 0], mat17[:, 1])                      # normal vector to the plane \n",
    "z = (-cross_product[0] * xx - cross_product[1] * yy) / cross_product[2] # grid for z axis\n",
    "ax.plot_surface(xx, yy, z, alpha = 0.4)\n",
    "\n",
    "# plotting the two column vectors in the matrix\n",
    "ax.plot([0, mat17[0, 0]], [0, mat17[1, 0]], [0, mat17[2, 0]], 'b')  # 1st column\n",
    "ax.plot([0, mat17[0, 1]], [0, mat17[1, 1]], [0, mat17[2, 1]], 'b')  # 2nd column\n",
    "\n",
    "# plotting the vectors\n",
    "ax.plot([0, vec2[0]], [0, vec2[1]], [0, vec2[2]], 'r')  # vec2 is in the column spance of the matrix\n",
    "ax.plot([0, vec3[0]], [0, vec3[1]], [0, vec3[2]], 'g')  # vec3 is not in the column space of the matrix\n",
    "\n",
    "ax.view_init(elev = 145, azim = 0)\n",
    "plt.show()"
   ]
  }
 ],
 "metadata": {
  "kernelspec": {
   "display_name": "Python 3",
   "language": "python",
   "name": "python3"
  },
  "language_info": {
   "codemirror_mode": {
    "name": "ipython",
    "version": 3
   },
   "file_extension": ".py",
   "mimetype": "text/x-python",
   "name": "python",
   "nbconvert_exporter": "python",
   "pygments_lexer": "ipython3",
   "version": "3.8.8"
  }
 },
 "nbformat": 4,
 "nbformat_minor": 5
}
