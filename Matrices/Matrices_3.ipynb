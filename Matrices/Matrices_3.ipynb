{
 "cells": [
  {
   "cell_type": "code",
   "execution_count": 1,
   "id": "b2b5ad64-0824-43bc-8ae3-988d99de8e99",
   "metadata": {},
   "outputs": [],
   "source": [
    "import numpy as np\n",
    "from sympy import *\n",
    "import matplotlib.pyplot as plt"
   ]
  },
  {
   "cell_type": "markdown",
   "id": "e2927ece-4f3f-4a17-aeb1-57328eb689f2",
   "metadata": {},
   "source": [
    "## Matrix Determinant"
   ]
  },
  {
   "cell_type": "code",
   "execution_count": 2,
   "id": "bbf8b2ab-25cb-43b1-b13e-9d212d44e4ee",
   "metadata": {},
   "outputs": [
    {
     "name": "stdout",
     "output_type": "stream",
     "text": [
      "0.0\n",
      "0.0\n",
      "\n",
      "\n",
      "\n"
     ]
    }
   ],
   "source": [
    "mat1 = np.array([[1, 2], [1, 2]])\n",
    "print(np.linalg.det(mat1))   # (1 * 2) - (1 * 2) = 0\n",
    "\n",
    "\n",
    "mat2 = np.random.randint(-10, 10, (2, 2))\n",
    "# reducing the rank using linear dependency in a row\n",
    "mat2[:, 0] = mat2[:, 1]\n",
    "print(round(np.linalg.det(mat2), 4))   # determinant will be 0\n",
    "\n",
    "print(\"\\n\\n\")"
   ]
  },
  {
   "cell_type": "markdown",
   "id": "6683309f-aeea-4ecc-881d-30373e929cf2",
   "metadata": {},
   "source": [
    "## Impact of Row swapping on the Determinant"
   ]
  },
  {
   "cell_type": "code",
   "execution_count": 3,
   "id": "f6c4f9da-1cfb-48de-a7f3-d32adcc28c5d",
   "metadata": {},
   "outputs": [
    {
     "name": "stdout",
     "output_type": "stream",
     "text": [
      "Before swap, Det(matrix) =\t -4653.0 \n",
      "\n",
      "After 1 swap, Det(matrix) =\t 4653.0 \n",
      "\n",
      "After 2 swaps, Det(matrix) =\t -4653.0 \n",
      "\n",
      "\n",
      "\n",
      "\n",
      "\n"
     ]
    }
   ],
   "source": [
    "mat3 = np.random.randint(-10, 10, (4, 4))\n",
    "print(\"Before swap, Det(matrix) =\\t\", round(np.linalg.det(mat3), 4), \"\\n\")       # original determinant\n",
    "\n",
    "\n",
    "# 1st row swap (1st row swapped with the second row)\n",
    "mat4 = mat3[[1, 0, 2, 3]]\n",
    "print(\"After 1 swap, Det(matrix) =\\t\", round(np.linalg.det(mat4), 4), \"\\n\")      # must be negative of the original determinant\n",
    "\n",
    "# 2nd row swap (3rd row swapped with the second row)\n",
    "mat5 = mat3[[1, 2, 0, 3]]\n",
    "print(\"After 2 swaps, Det(matrix) =\\t\", round(np.linalg.det(mat5), 4), \"\\n\\n\")   # must be equal to the original determinant\n",
    "print(\"\\n\\n\")"
   ]
  },
  {
   "cell_type": "markdown",
   "id": "1e9382fb-2bba-400a-9eb5-b80069a2e937",
   "metadata": {},
   "source": [
    "## Determinant of Shifted Matrices"
   ]
  },
  {
   "cell_type": "code",
   "execution_count": 4,
   "id": "daffa215-7eae-441f-9c67-b441e6cffda3",
   "metadata": {},
   "outputs": [
    {
     "data": {
      "image/png": "[encoded data removed]",
      "text/plain": [
       "<Figure size 864x432 with 1 Axes>"
      ]
     },
     "metadata": {
      "needs_background": "light"
     },
     "output_type": "display_data"
    },
    {
     "name": "stdout",
     "output_type": "stream",
     "text": [
      "\n",
      "\n",
      "\n"
     ]
    }
   ],
   "source": [
    "# size\n",
    "m = 10\n",
    "\n",
    "# shifting the matrix by x times tha Identity matrix, where x is in range [0, 0.1]\n",
    "x = np.linspace(0, 0.1, 30)\n",
    "\n",
    "# computing the absolute value of determinant \n",
    "# we will repeat the process 1000 times for a value of x and take the average\n",
    "\n",
    "temp = np.zeros(1000)\n",
    "determinants = np.zeros(len(x))  # we will have 30 determinants\n",
    "\n",
    "for determinant_i in range(len(x)):\n",
    "    \n",
    "    # running 1000 iterations\n",
    "    for i in range(1000):\n",
    "        \n",
    "        # generate a matrix\n",
    "        mat6 = np.random.randint(-10, 10, (m, m))\n",
    "        # adding a linear dependency\n",
    "        mat6[:, 0] = mat6[:, 1]\n",
    "        \n",
    "        temp[i] = abs(np.linalg.det(mat6 + x[determinant_i] * np.eye(m)))\n",
    "        \n",
    "    # calculating the average of the 1000 determinants\n",
    "    determinants[determinant_i] = np.mean(temp)\n",
    "\n",
    "plt.figure(figsize=(12, 6))\n",
    "plt.plot(x, determinants, 's-')\n",
    "plt.xlabel(\"Magnitude of the fractional Shift\")\n",
    "plt.ylabel(\"Determinant\")\n",
    "plt.show()\n",
    "print(\"\\n\\n\")\n",
    "# the more of the shift is added to the matrix, the higher the determinant of the matrix"
   ]
  },
  {
   "cell_type": "markdown",
   "id": "84a04c40-7b3b-4487-91e5-4cd933809bd6",
   "metadata": {},
   "source": [
    "## Det(AB) = Det(A) * Det(B)"
   ]
  },
  {
   "cell_type": "code",
   "execution_count": 5,
   "id": "df9f7ff5-bbe3-4205-ac2e-f94861bd901d",
   "metadata": {},
   "outputs": [
    {
     "name": "stdout",
     "output_type": "stream",
     "text": [
      "-2580.0000000000073 -2580.000000000053\n",
      "\n",
      "\n",
      "\n"
     ]
    }
   ],
   "source": [
    "# for static-sized matrix\n",
    "mat7 = np.random.randint(-10, 10, (3, 3))\n",
    "mat8 = np.random.randint(-10, 10, (3, 3))\n",
    "mat9 = mat7 @ mat8\n",
    "\n",
    "det1 = np.linalg.det(mat7) * np.linalg.det(mat8)\n",
    "det2 = np.linalg.det(mat9)\n",
    "\n",
    "print(det1, det2)\n",
    "\n",
    "print(\"\\n\\n\")"
   ]
  },
  {
   "cell_type": "code",
   "execution_count": 6,
   "id": "718f9cce-ccc5-4cab-af72-cbeaf4a2ef53",
   "metadata": {},
   "outputs": [
    {
     "data": {
      "image/png": "[encoded data removed]",
      "text/plain": [
       "<Figure size 864x432 with 1 Axes>"
      ]
     },
     "metadata": {
      "needs_background": "light"
     },
     "output_type": "display_data"
    },
    {
     "name": "stdout",
     "output_type": "stream",
     "text": [
      "\n",
      "\n",
      "\n"
     ]
    }
   ],
   "source": [
    "# for Dynamic-sized matrix\n",
    "\n",
    "# variable for storing the determinants for LHS and RHS\n",
    "determinants = np.zeros((50, 2))\n",
    "\n",
    "for k in range(50):\n",
    "    mat10 = np.random.randn(k, k)\n",
    "    mat11 = np.random.randn(k, k)\n",
    "    mat12 = mat10 @ mat11\n",
    "    \n",
    "    determinants[k, 0] = np.linalg.det(mat10) * np.linalg.det(mat11)\n",
    "    determinants[k, 1] = np.linalg.det(mat12)\n",
    "    \n",
    "# plotting the difference between the two determinants \n",
    "plt.figure(figsize=(12, 6))\n",
    "plt.plot(determinants[:, 0] - determinants[:, 1], 's-')\n",
    "\n",
    "\n",
    "# we expect the difference to be very close to zero\n",
    "# setting the limits on the y-axis\n",
    "\n",
    "plt.ylim([-2, 2])\n",
    "plt.show()\n",
    "print(\"\\n\\n\")"
   ]
  },
  {
   "cell_type": "markdown",
   "id": "e1fdf239-61c6-4842-8abd-451881bf6358",
   "metadata": {},
   "source": [
    "---\n",
    "## Matrix Inverse"
   ]
  },
  {
   "cell_type": "code",
   "execution_count": 7,
   "id": "f9e04149-9088-4f43-933b-5b7d9bbe426a",
   "metadata": {},
   "outputs": [
    {
     "name": "stdout",
     "output_type": "stream",
     "text": [
      "[[-0.7625  0.4922  0.2412]\n",
      " [-0.0881  1.1117  0.8062]\n",
      " [-0.2635  1.252   0.7578]] \n",
      "\n",
      "\n",
      "[[-1.6753 -0.7119  1.2906]\n",
      " [-1.4611 -5.1581  5.9531]\n",
      " [ 1.8317  8.2752 -8.0679]] \n",
      "\n",
      "\n",
      "[[ 1. -0. -0.]\n",
      " [-0.  1.  0.]\n",
      " [ 0.  0.  1.]] \n",
      "\n",
      "\n"
     ]
    },
    {
     "data": {
      "image/png": "[encoded data removed]",
      "text/plain": [
       "<Figure size 864x432 with 3 Axes>"
      ]
     },
     "metadata": {
      "needs_background": "light"
     },
     "output_type": "display_data"
    },
    {
     "name": "stdout",
     "output_type": "stream",
     "text": [
      "\n",
      "\n",
      "\n"
     ]
    }
   ],
   "source": [
    "## If a matrix is invertible, it must be:\n",
    "##    1) Square\n",
    "##    2) Full rank, and\n",
    "##    3) must have a non-zero Determinant value\n",
    "\n",
    "\n",
    "# size variable\n",
    "m = 3\n",
    "\n",
    "# matrix A\n",
    "mat13 = np.random.randn(m, m)\n",
    "# matrix A inverse\n",
    "mat14 = np.linalg.inv(mat13)\n",
    "\n",
    "# A * A inverse\n",
    "mat15 = mat13 @ mat14 \n",
    "\n",
    "print(np.round(mat13, 4), \"\\n\\n\")\n",
    "print(np.round(mat14, 4), \"\\n\\n\")\n",
    "print(np.round(mat15, 4), \"\\n\\n\")   # mat15 must be an identity matrix\n",
    "\n",
    "\n",
    "\n",
    "# Image of the matrices\n",
    "plt.figure(figsize=(12, 6))\n",
    "\n",
    "plt.subplot(1, 3, 1)\n",
    "plt.imshow(mat13)\n",
    "plt.title(\"Matrix A\")\n",
    "\n",
    "plt.subplot(1, 3, 2)\n",
    "plt.imshow(mat14)\n",
    "plt.title(\"Matrix $A^{-1}$\")\n",
    "\n",
    "plt.subplot(1, 3, 3)\n",
    "plt.imshow(mat15)\n",
    "plt.title(\"$AA^{-1}$\")\n",
    "\n",
    "plt.show()\n",
    "print(\"\\n\\n\")"
   ]
  },
  {
   "cell_type": "markdown",
   "id": "a5628517-adbd-45c7-9469-c4086879514c",
   "metadata": {},
   "source": [
    "## Computing Inverse by row reduction"
   ]
  },
  {
   "cell_type": "code",
   "execution_count": 8,
   "id": "8a9a8d86-2298-4b31-b6b8-8c66a35dc9e3",
   "metadata": {},
   "outputs": [
    {
     "data": {
      "text/latex": [
       "$\\displaystyle \\left[\\begin{matrix}0 & 0 & 0 & 0\\\\0 & 0 & 0 & 0\\\\0 & 0 & 0 & 0\\\\0 & 0 & 0 & 0\\end{matrix}\\right]$"
      ],
      "text/plain": [
       "Matrix([\n",
       "[0, 0, 0, 0],\n",
       "[0, 0, 0, 0],\n",
       "[0, 0, 0, 0],\n",
       "[0, 0, 0, 0]])"
      ]
     },
     "execution_count": 8,
     "metadata": {},
     "output_type": "execute_result"
    }
   ],
   "source": [
    "m = 4\n",
    "mat16 = np.random.randint(-10, 10, (m, m))\n",
    "\n",
    "# concatenate mat16 with an Identity matrix of same size (column wise)\n",
    "mat17 = np.eye(m)                                           # Identity matrix\n",
    "mat18 = Matrix(np.concatenate((mat16, mat17), axis = 1))    # for row reduction we will have convert the matrix into a sympy object\n",
    "\n",
    "# using row reduction we will convert mat16 into Identity matrix and mat17 into the inverse of mat16\n",
    "mat19 = mat18.rref()\n",
    "mat19 = mat19[0]\n",
    "\n",
    "# taking the second m X m matrix out\n",
    "mat20 = mat19[:, m: m + m]\n",
    "\n",
    "# method 2: using inverse function in the sympy module\n",
    "mat21 = Matrix(mat16).inv()\n",
    "\n",
    "mat20 - mat21  #          <---------------  must be a zero matrix"
   ]
  },
  {
   "cell_type": "code",
   "execution_count": 9,
   "id": "42b083dd-1437-478b-a36e-d02c7979349c",
   "metadata": {},
   "outputs": [
    {
     "data": {
      "image/png": "[encoded data removed]",
      "text/plain": [
       "<Figure size 864x432 with 2 Axes>"
      ]
     },
     "metadata": {
      "needs_background": "light"
     },
     "output_type": "display_data"
    },
    {
     "name": "stdout",
     "output_type": "stream",
     "text": [
      "\n",
      "\n",
      "\n"
     ]
    }
   ],
   "source": [
    "# Image of the concatenated/augmented matrices\n",
    "plt.figure(figsize=(12, 6))\n",
    "plt.subplot(211)\n",
    "plt.imshow(matrix2numpy(mat18, dtype='float'), vmin = -4 , vmax = 4)\n",
    "plt.title('A|I'), plt.axis(False)\n",
    "\n",
    "plt.subplot(212)\n",
    "plt.imshow(matrix2numpy(mat19, dtype='float'))\n",
    "plt.title('I|A$^{-1}$'), plt.axis(False)\n",
    "\n",
    "plt.show()\n",
    "print(\"\\n\\n\")"
   ]
  },
  {
   "cell_type": "code",
   "execution_count": 10,
   "id": "9b72f64c-b548-4db7-bf0a-309c16bf3b51",
   "metadata": {},
   "outputs": [
    {
     "data": {
      "image/png": "[encoded data removed]",
      "text/plain": [
       "<Figure size 864x432 with 3 Axes>"
      ]
     },
     "metadata": {
      "needs_background": "light"
     },
     "output_type": "display_data"
    },
    {
     "name": "stdout",
     "output_type": "stream",
     "text": [
      "\n",
      "\n",
      "\n"
     ]
    }
   ],
   "source": [
    "# Image of the matrix inverse\n",
    "plt.figure(figsize=(12,6))\n",
    "\n",
    "\n",
    "# the original matrix converted into a sympy object\n",
    "plt.subplot(131)\n",
    "plt.imshow(matrix2numpy(Matrix(mat16), dtype='float'))\n",
    "plt.title('Matrix A'), plt.axis(False)\n",
    "\n",
    "\n",
    "# matrix invesrse using row reduction\n",
    "plt.subplot(132)\n",
    "plt.imshow(matrix2numpy(mat20, dtype='float'))\n",
    "plt.title('A$^{-1}$ from rref'), plt.axis(False)\n",
    "\n",
    "\n",
    "# matrix inverse using the inv()\n",
    "plt.subplot(133)\n",
    "plt.imshow(matrix2numpy(mat21, dtype='float'))\n",
    "plt.title('A$^{-1}$ from inv()'), plt.axis(False)\n",
    "\n",
    "plt.show()\n",
    "print(\"\\n\\n\")"
   ]
  },
  {
   "cell_type": "markdown",
   "id": "9cd547b6-37e6-4205-bbb2-19fbfb44955c",
   "metadata": {},
   "source": [
    "## Inverse of Diagonal matrices"
   ]
  },
  {
   "cell_type": "code",
   "execution_count": 11,
   "id": "3cba88cf-8820-49dc-9b0b-908e6ea71c73",
   "metadata": {},
   "outputs": [
    {
     "name": "stdout",
     "output_type": "stream",
     "text": [
      "[[4 0]\n",
      " [0 5]] \n",
      "\n",
      "\n",
      "[[0.25 0.  ]\n",
      " [0.   0.2 ]] \n",
      "\n",
      "\n",
      "[[1 0 0 0]\n",
      " [0 2 0 0]\n",
      " [0 0 3 0]\n",
      " [0 0 0 4]] \n",
      "\n",
      "\n",
      "[[1.         0.         0.         0.        ]\n",
      " [0.         0.5        0.         0.        ]\n",
      " [0.         0.         0.33333333 0.        ]\n",
      " [0.         0.         0.         0.25      ]] \n",
      "\n",
      "\n"
     ]
    }
   ],
   "source": [
    "# diagonal matrix\n",
    "mat22 = np.diag([4, 5])\n",
    "print(mat22, \"\\n\\n\")\n",
    "mat23 = np.linalg.inv(mat22)\n",
    "print(mat23, \"\\n\\n\")\n",
    "\n",
    "\n",
    "mat24 = np.diag(np.arange(1, 5))\n",
    "print(mat24, \"\\n\\n\")\n",
    "mat25 = np.linalg.inv(mat24)\n",
    "print(mat25, \"\\n\\n\")\n",
    "\n",
    "\n",
    "## The inverse of a diagonal matrix is also a diagonal matrix and has the values that are inverse of the values in the original matrix \n",
    "## for example: mat23[0, 0] = 1 / mat22[0, 0]"
   ]
  },
  {
   "cell_type": "markdown",
   "id": "1b92e67f-9b9b-498d-ac07-b82f9dc72d82",
   "metadata": {},
   "source": [
    "## One-sided Inverse for Rectangular Matrices- part 1"
   ]
  },
  {
   "cell_type": "code",
   "execution_count": 12,
   "id": "a05921f1-be61-4e0d-8d5f-e2cb5c82b59a",
   "metadata": {},
   "outputs": [
    {
     "name": "stdout",
     "output_type": "stream",
     "text": [
      "Tall Matrix:\n",
      "Rank of A'A =  2\n",
      "Rank of AA' =  2 \n",
      "\n",
      "\n",
      "Test 1:\n",
      " [[ 1. -0.]\n",
      " [ 0.  1.]] \n",
      "\n",
      "\n",
      "Test 2:\n",
      " [[   6.5 -164.    19.5   21.5]\n",
      " [   1.5 -108.     4.5   22.5]\n",
      " [   2.  -160.     6.    34. ]\n",
      " [   3.5 -116.    10.5   18.5]] \n",
      "\n",
      "\n"
     ]
    },
    {
     "data": {
      "image/png": "[encoded data removed]",
      "text/plain": [
       "<Figure size 864x576 with 8 Axes>"
      ]
     },
     "metadata": {
      "needs_background": "light"
     },
     "output_type": "display_data"
    },
    {
     "name": "stdout",
     "output_type": "stream",
     "text": [
      "\n",
      "\n",
      "\n"
     ]
    }
   ],
   "source": [
    "## If A is a matrix and A' is the transpose of matrix A, then A'A and AA' are always square matrices => A'A and AA' are invertible\n",
    "## If (A'A)^-1 is the inverse of A'A, then (A'A) * (A'A)^-1 must be an identity matrix   \n",
    "##    => (A'A)^-1 * (A'A) = I\n",
    "##    => [(A'A)^-1 * A'] * A = I      => left inverse of A = (A'A)^-1 * A'    ; if A is a full column-rank matrix\n",
    "##\n",
    "## Similarly,   \n",
    "## If (AA')^-1 is the inverse of AA', then (AA') * (AA')^-1 must be an identity matrix  \n",
    "##    => (AA') * (AA')^-1 = I\n",
    "##    => A * [A' * (AA')^-1] = I      => right inverse of A = A' * (AA')^-1   ; if A is a full row-rank matrix\n",
    "\n",
    "\n",
    "################       for m > n (tall matrix), only the left inverse exists\n",
    "\n",
    "m = 4\n",
    "n = 2\n",
    "mat26 = np.random.randint(1, 25, (m, n))      # A\n",
    "mat27 = mat26.T                               # A'\n",
    "mat28 = mat27 @ mat26                         # A'A\n",
    "mat29 = mat26 @ mat27                         # AA'\n",
    "print(\"Tall Matrix:\")\n",
    "# checking the ranks\n",
    "print(\"Rank of A'A = \", np.linalg.matrix_rank(mat28))\n",
    "print(\"Rank of AA' = \", np.linalg.matrix_rank(mat29), \"\\n\\n\")\n",
    "\n",
    "mat30 = np.linalg.inv(mat28)                  # (A'A)^-1\n",
    "mat31 = np.linalg.inv(mat29)                  # (AA')^-1\n",
    "\n",
    "# calculating the left inverse: (A'A)^-1 * A'\n",
    "left_inv_1 = mat30 @ mat27\n",
    "\n",
    "# calculating the right inverse: A' * (AA')^-1\n",
    "right_inv_1 = mat27 @ mat31\n",
    "\n",
    "# testing the one-sided inverse\n",
    "test_mat_1 = left_inv_1 @ mat26               # Does left-inverse * A = I ?  Yes\n",
    "print(\"Test 1:\\n\", np.round(test_mat_1, 3), \"\\n\\n\")\n",
    "test_mat_2 = mat26 @ right_inv_1              # Does A * right-inverse = I ?  No\n",
    "print(\"Test 2:\\n\", np.round(test_mat_2, 3), \"\\n\\n\")\n",
    "\n",
    "\n",
    "# image of matrices\n",
    "plt.figure(figsize=(12, 8))\n",
    "\n",
    "plt.subplot(331)\n",
    "plt.imshow(mat26), plt.axis('off')\n",
    "plt.title('A')\n",
    "\n",
    "plt.subplot(332)\n",
    "plt.imshow(mat28), plt.axis('off')\n",
    "plt.title('A$^T$A')\n",
    "\n",
    "plt.subplot(333)\n",
    "plt.imshow(mat29), plt.axis('off')\n",
    "plt.title('AA$^T$')\n",
    "\n",
    "plt.subplot(334)\n",
    "plt.imshow(mat27), plt.axis('off')\n",
    "plt.title('A$^T$')\n",
    "\n",
    "plt.subplot(335)\n",
    "plt.imshow(left_inv_1), plt.axis('off')\n",
    "plt.title('$(A^TA)^{-1}A^T$')\n",
    "\n",
    "plt.subplot(336)\n",
    "plt.imshow(right_inv_1), plt.axis('off')\n",
    "plt.title('$A^T(AA^T)^{-1}$')\n",
    "\n",
    "plt.subplot(338)\n",
    "plt.imshow(test_mat_1), plt.axis('off')\n",
    "plt.title('[ $(A^TA)^{-1}A^T ]$  A')\n",
    "\n",
    "plt.subplot(339)\n",
    "plt.imshow(test_mat_2), plt.axis('off')\n",
    "plt.title('A  [ $A^T(AA^T)^{-1}$ ]')\n",
    "\n",
    "plt.show()\n",
    "print(\"\\n\\n\")"
   ]
  },
  {
   "cell_type": "markdown",
   "id": "bb9dc598-3236-4797-b3a0-132a684349a8",
   "metadata": {},
   "source": [
    "## One-sided Inverse for Rectangular Matrices- part 2"
   ]
  },
  {
   "cell_type": "code",
   "execution_count": 13,
   "id": "bac5e7af-8507-450f-a7d5-09c6d4784a7e",
   "metadata": {},
   "outputs": [
    {
     "name": "stdout",
     "output_type": "stream",
     "text": [
      "Wide Matrix:\n",
      "Rank of A'A =  2\n",
      "Rank of AA' =  2 \n",
      "\n",
      "\n",
      "Test 3:\n",
      " [[-33.188 -23.375 -44.5   -52.438]\n",
      " [ 27.     20.5    36.5    50.5  ]\n",
      " [  5.25    3.5     7.      7.25 ]\n",
      " [  1.375   1.125   1.875   3.   ]] \n",
      "\n",
      "\n",
      "Test 4:\n",
      " [[ 1.  0.]\n",
      " [-0.  1.]] \n",
      "\n",
      "\n"
     ]
    },
    {
     "data": {
      "image/png": "[encoded data removed]",
      "text/plain": [
       "<Figure size 864x576 with 8 Axes>"
      ]
     },
     "metadata": {
      "needs_background": "light"
     },
     "output_type": "display_data"
    },
    {
     "name": "stdout",
     "output_type": "stream",
     "text": [
      "\n",
      "\n",
      "\n"
     ]
    }
   ],
   "source": [
    "###############       for m < n (wide matrix), only the right inverse exists\n",
    "\n",
    "m = 2\n",
    "n = 4\n",
    "mat32 = np.random.randint(1, 25, (m, n))      # A\n",
    "mat33 = mat32.T                               # A'\n",
    "mat34 = mat33 @ mat32                         # A'A\n",
    "mat35 = mat32 @ mat33                         # AA'\n",
    "print(\"Wide Matrix:\")\n",
    "# check for ranks\n",
    "print(\"Rank of A'A = \", np.linalg.matrix_rank(mat32))\n",
    "print(\"Rank of AA' = \", np.linalg.matrix_rank(mat33), \"\\n\\n\")\n",
    "\n",
    "mat36 = np.linalg.inv(mat34)                  # (A'A)^-1\n",
    "mat37 = np.linalg.inv(mat35)                  # (AA')^-1\n",
    "\n",
    "# calculating the left inverse: (A'A)^-1 * A'\n",
    "left_inv_2 = mat36 @ mat33\n",
    "# calculating the right inverse: A' * (AA')^-1\n",
    "right_inv_2 = mat33 @ mat37\n",
    "\n",
    "# testing the one-sided inverse\n",
    "test_mat_3 = left_inv_2 @ mat32                # Does left-inverse * A = I ?  Yes\n",
    "print(\"Test 3:\\n\", np.round(test_mat_3, 3), \"\\n\\n\")\n",
    "test_mat_4 = mat32 @ right_inv_2               # Does A * right-inverse = I ?  No\n",
    "print(\"Test 4:\\n\", np.round(test_mat_4, 3), \"\\n\\n\")\n",
    "\n",
    "\n",
    "## image of matrices\n",
    "plt.figure(figsize=(12, 8))\n",
    "\n",
    "plt.subplot(331)\n",
    "plt.imshow(mat32), plt.axis('off')\n",
    "plt.title('A')\n",
    "\n",
    "plt.subplot(332)\n",
    "plt.imshow(mat34), plt.axis('off')\n",
    "plt.title('A$^T$A')\n",
    "\n",
    "plt.subplot(333)\n",
    "plt.imshow(mat35), plt.axis('off')\n",
    "plt.title('AA$^T$')\n",
    "\n",
    "\n",
    "plt.subplot(334)\n",
    "plt.imshow(mat33), plt.axis('off')\n",
    "plt.title('A$^T$')\n",
    "\n",
    "\n",
    "plt.subplot(335)\n",
    "plt.imshow(left_inv_2), plt.axis('off')\n",
    "plt.title('$(A^TA)^{-1}A^T$')\n",
    "\n",
    "plt.subplot(336)\n",
    "plt.imshow(right_inv_2), plt.axis('off')\n",
    "plt.title('$A^T(AA^T)^{-1}$')\n",
    "\n",
    "plt.subplot(338)\n",
    "plt.imshow(test_mat_3), plt.axis('off')\n",
    "plt.title('[ $(A^TA)^{-1}A^T ]$  A')\n",
    "\n",
    "plt.subplot(339)\n",
    "plt.imshow(test_mat_4), plt.axis('off')\n",
    "plt.title('A  [ $A^T(AA^T)^{-1}$ ]')\n",
    "\n",
    "plt.show()\n",
    "print(\"\\n\\n\")"
   ]
  },
  {
   "cell_type": "markdown",
   "id": "89731eae-effb-43bd-8ca9-56bb164dc9e3",
   "metadata": {},
   "source": [
    "## Pseudo-inverse"
   ]
  },
  {
   "cell_type": "code",
   "execution_count": 14,
   "id": "bfc4eb2e-bd5c-43d5-863f-0f5c781c0693",
   "metadata": {},
   "outputs": [
    {
     "name": "stdout",
     "output_type": "stream",
     "text": [
      "Rank 1: 40 \n",
      "Rank 2: 39 \n",
      "\n",
      "\n"
     ]
    },
    {
     "data": {
      "image/png": "[encoded data removed]",
      "text/plain": [
       "<Figure size 720x360 with 4 Axes>"
      ]
     },
     "metadata": {
      "needs_background": "light"
     },
     "output_type": "display_data"
    },
    {
     "name": "stdout",
     "output_type": "stream",
     "text": [
      "\n",
      "\n",
      "\n"
     ]
    }
   ],
   "source": [
    "## If A* is the pseudo-inverse of A, then \n",
    "##   1) AA* != A*A\n",
    "##   2) AA* and AA* may or may not equal to the Identity matrix, but will be very close to the Identity matrix\n",
    "\n",
    "mat36 = np.random.randint(1, 25, (50, 40))      # A\n",
    "rank_1 = np.linalg.matrix_rank(mat36)\n",
    "\n",
    "# reducing the rank\n",
    "mat36[:, 1] = mat36[:, 0]                       # column 2 = column 1\n",
    "rank_2 = np.linalg.matrix_rank(mat36)\n",
    "\n",
    "print(\"Rank 1:\", rank_1, \"\\nRank 2:\", rank_2, \"\\n\\n\")\n",
    "\n",
    "# computing the pseudo-inverse\n",
    "pseudo_inv_1 = np.linalg.pinv(mat36)            # A*\n",
    "\n",
    "\n",
    "# image of the matrices\n",
    "plt.figure(figsize=(10, 5))\n",
    "\n",
    "plt.subplot(221)\n",
    "plt.imshow(mat36), plt.axis('off')\n",
    "plt.title('A')\n",
    "\n",
    "plt.subplot(222)\n",
    "plt.imshow(pseudo_inv_1), plt.axis('off')\n",
    "plt.title('A$^*$')\n",
    "\n",
    "plt.subplot(223)\n",
    "plt.imshow(pseudo_inv_1 @ mat36), plt.axis('off')\n",
    "plt.title('A$^*$A')\n",
    "\n",
    "plt.subplot(224)\n",
    "plt.imshow(mat36 @ pseudo_inv_1), plt.axis('off')\n",
    "plt.title('AA$^*$')\n",
    "\n",
    "plt.show()\n",
    "print(\"\\n\\n\")"
   ]
  },
  {
   "cell_type": "markdown",
   "id": "cebdcfc4-6df7-494a-9896-c5867e08180d",
   "metadata": {},
   "source": [
    "## Does Pseudo-inverse = Inverse, if the Matrix is invertible?"
   ]
  },
  {
   "cell_type": "code",
   "execution_count": 15,
   "id": "ca503950-28ce-4fb7-a697-cc817885c8ad",
   "metadata": {},
   "outputs": [
    {
     "name": "stdout",
     "output_type": "stream",
     "text": [
      "[[-0.204  0.154 -0.057  0.165]\n",
      " [-0.04  -0.013 -0.063  0.104]\n",
      " [-0.172  0.054  0.028  0.139]\n",
      " [ 0.436 -0.188  0.123 -0.377]] \n",
      "\n",
      "\n",
      "[[-0.204  0.154 -0.057  0.165]\n",
      " [-0.04  -0.013 -0.063  0.104]\n",
      " [-0.172  0.054  0.028  0.139]\n",
      " [ 0.436 -0.188  0.123 -0.377]] \n",
      "\n",
      "\n"
     ]
    }
   ],
   "source": [
    "## Yes!\n",
    "\n",
    "m = 4\n",
    "mat37 = np.random.randint(1, 20, (m, m))\n",
    "pseudo_inv_2 = np.linalg.pinv(mat37)\n",
    "inv = np.linalg.inv(mat37)\n",
    "\n",
    "print(np.round(pseudo_inv_2, 3), \"\\n\\n\")\n",
    "print(np.round(inv, 3), \"\\n\\n\")"
   ]
  }
 ],
 "metadata": {
  "kernelspec": {
   "display_name": "Python 3",
   "language": "python",
   "name": "python3"
  },
  "language_info": {
   "codemirror_mode": {
    "name": "ipython",
    "version": 3
   },
   "file_extension": ".py",
   "mimetype": "text/x-python",
   "name": "python",
   "nbconvert_exporter": "python",
   "pygments_lexer": "ipython3",
   "version": "3.8.8"
  }
 },
 "nbformat": 4,
 "nbformat_minor": 5
}
